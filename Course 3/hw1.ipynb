{
 "cells": [
  {
   "cell_type": "code",
   "execution_count": 3,
   "metadata": {},
   "outputs": [],
   "source": [
    "import csv"
   ]
  },
  {
   "cell_type": "code",
   "execution_count": 28,
   "metadata": {},
   "outputs": [],
   "source": [
    "def timetosec(str_time):\n",
    "    h, m, s = str_time.split(\":\")\n",
    "    time = int(h)*3600 + int(m)*60 + int(s)\n",
    "    return time"
   ]
  },
  {
   "cell_type": "code",
   "execution_count": 64,
   "metadata": {},
   "outputs": [],
   "source": [
    "time_pro_sta = {}\n",
    "\n",
    "f = open(\"./midterm2.csv\", \"r\")\n",
    "csvfile = csv.DictReader(f)\n",
    "for row in csvfile:\n",
    "    pro_sta = {}\n",
    "    time = timetosec(row[\"SubmissionTime\"])\n",
    "    pro_sta[row[\"Problem\"]] = row[\"Status\"]\n",
    "    if time not in time_pro_sta:\n",
    "        time_pro_sta[time] = []\n",
    "    time_pro_sta[time].append(pro_sta)"
   ]
  },
  {
   "cell_type": "code",
   "execution_count": 93,
   "metadata": {},
   "outputs": [
    {
     "name": "stdout",
     "output_type": "stream",
     "text": [
      "09:20:20 12:20:20\n",
      "88 6 6 0 21;24 5 22 1 66;49 2 34 0 88;62 4 64 0 80;"
     ]
    }
   ],
   "source": [
    "max_time = max(time_statue.keys())\n",
    "min_time = min(time_statue.keys())\n",
    "\n",
    "p_1 = [0, 0, 0, 0, 0]\n",
    "p_2 = [0, 0, 0, 0, 0]\n",
    "p_3 = [0, 0, 0, 0, 0]\n",
    "p_4 = [0, 0, 0, 0, 0]\n",
    "\n",
    "start, end = input().split(\" \")\n",
    "start = timetosec(start)\n",
    "end = timetosec(end)\n",
    "for t in range(start, end+1):\n",
    "    if t in time_pro_sta:\n",
    "        for i in range(len(time_pro_sta[t])):\n",
    "            if str(time_pro_sta[t][i].keys())[12:-3] == \"1\":\n",
    "                if time_pro_sta[t][i][\"1\"] == \"Accepted\":\n",
    "                    p_1[0] += 1\n",
    "                elif time_pro_sta[t][i][\"1\"] == \"Compile Error\":\n",
    "                    p_1[1] += 1\n",
    "                elif time_pro_sta[t][i][\"1\"] == \"Runtime Error\":\n",
    "                    p_1[2] += 1\n",
    "                elif time_pro_sta[t][i][\"1\"] == \"Time Limit Exceed\":\n",
    "                    p_1[3] += 1\n",
    "                elif time_pro_sta[t][i][\"1\"] == \"Wrong Answer\":\n",
    "                    p_1[4] += 1\n",
    "            elif str(time_pro_sta[t][i].keys())[12:-3] == \"2\":\n",
    "                if time_pro_sta[t][i][\"2\"] == \"Accepted\":\n",
    "                    p_2[0] += 1\n",
    "                elif time_pro_sta[t][i][\"2\"] == \"Compile Error\":\n",
    "                    p_2[1] += 1\n",
    "                elif time_pro_sta[t][i][\"2\"] == \"Runtime Error\":\n",
    "                    p_2[2] += 1\n",
    "                elif time_pro_sta[t][i][\"2\"] == \"Time Limit Exceed\":\n",
    "                    p_2[3] += 1\n",
    "                elif time_pro_sta[t][i][\"2\"] == \"Wrong Answer\":\n",
    "                    p_2[4] += 1\n",
    "            elif str(time_pro_sta[t][i].keys())[12:-3] == \"3\":\n",
    "                if time_pro_sta[t][i][\"3\"] == \"Accepted\":\n",
    "                    p_3[0] += 1\n",
    "                elif time_pro_sta[t][i][\"3\"] == \"Compile Error\":\n",
    "                    p_3[1] += 1\n",
    "                elif time_pro_sta[t][i][\"3\"] == \"Runtime Error\":\n",
    "                    p_3[2] += 1\n",
    "                elif time_pro_sta[t][i][\"3\"] == \"Time Limit Exceed\":\n",
    "                    p_3[3] += 1\n",
    "                elif time_pro_sta[t][i][\"3\"] == \"Wrong Answer\":\n",
    "                    p_3[4] += 1\n",
    "            elif str(time_pro_sta[t][i].keys())[12:-3] == \"4\":\n",
    "                if time_pro_sta[t][i][\"4\"] == \"Accepted\":\n",
    "                    p_4[0] += 1\n",
    "                elif time_pro_sta[t][i][\"4\"] == \"Compile Error\":\n",
    "                    p_4[1] += 1\n",
    "                elif time_pro_sta[t][i][\"4\"] == \"Runtime Error\":\n",
    "                    p_4[2] += 1\n",
    "                elif time_pro_sta[t][i][\"4\"] == \"Time Limit Exceed\":\n",
    "                    p_4[3] += 1\n",
    "                elif time_pro_sta[t][i][\"4\"] == \"Wrong Answer\":\n",
    "                    p_4[4] += 1\n",
    "                    \n",
    "for i in range(len(p_1)):\n",
    "    if i == len(p_1)-1:\n",
    "        print(p_1[i], end=\";\")\n",
    "    else:\n",
    "        print(p_1[i], end=\" \")\n",
    "for i in range(len(p_2)):\n",
    "    if i == len(p_2)-1:\n",
    "        print(p_2[i], end=\";\")\n",
    "    else:\n",
    "        print(p_2[i], end=\" \")\n",
    "for i in range(len(p_3)):\n",
    "    if i == len(p_3)-1:\n",
    "        print(p_3[i], end=\";\")\n",
    "    else:\n",
    "        print(p_3[i], end=\" \")\n",
    "for i in range(len(p_4)):\n",
    "    if i == len(p_4)-1:\n",
    "        print(p_4[i], end=\";\")\n",
    "    else:\n",
    "        print(p_4[i], end=\" \")"
   ]
  }
 ],
 "metadata": {
  "kernelspec": {
   "display_name": "Python 3",
   "language": "python",
   "name": "python3"
  },
  "language_info": {
   "codemirror_mode": {
    "name": "ipython",
    "version": 3
   },
   "file_extension": ".py",
   "mimetype": "text/x-python",
   "name": "python",
   "nbconvert_exporter": "python",
   "pygments_lexer": "ipython3",
   "version": "3.8.3"
  }
 },
 "nbformat": 4,
 "nbformat_minor": 4
}
