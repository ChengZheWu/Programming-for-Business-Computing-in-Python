{
 "cells": [
  {
   "cell_type": "markdown",
   "metadata": {},
   "source": [
    "# 複雜度比較"
   ]
  },
  {
   "cell_type": "code",
   "execution_count": 1,
   "metadata": {},
   "outputs": [
    {
     "name": "stdout",
     "output_type": "stream",
     "text": [
      "Best\n",
      "R Square\n",
      "Train: 0.800273443236809\n",
      "Val:   0.7534535669144474\n"
     ]
    }
   ],
   "source": [
    "import pandas as pd\n",
    "from sklearn.linear_model import LinearRegression\n",
    "from sklearn.model_selection import train_test_split\n",
    "\n",
    "bike = pd.read_csv(\"gongguan_best.csv\")\n",
    "print(\"Best\")\n",
    "\n",
    "X = bike.drop([\"lent\"], axis=1)\n",
    "y = bike[\"lent\"]\n",
    "\n",
    "train_X, valid_X, train_y, valid_y = train_test_split(X, y, test_size=0.3)\n",
    "\n",
    "lm = LinearRegression()\n",
    "lm.fit(train_X, train_y)\n",
    "print(\"R Square\")\n",
    "print(\"Train:\", lm.score(train_X, train_y))\n",
    "\n",
    "predicted_y = lm.predict(valid_X)  # 求預測值\n",
    "\n",
    "rss = ((predicted_y - valid_y) ** 2).mean()\n",
    "tss = ((valid_y.mean() - valid_y) ** 2).mean()\n",
    "print(\"Val:  \", 1 - rss/tss)  # 驗證誤差"
   ]
  },
  {
   "cell_type": "code",
   "execution_count": 2,
   "metadata": {},
   "outputs": [
    {
     "name": "stdout",
     "output_type": "stream",
     "text": [
      "Underfitting\n",
      "R Square\n",
      "Train: 0.7422284511430886\n",
      "Val:   0.6461010872035304\n"
     ]
    }
   ],
   "source": [
    "bike = pd.read_csv(\"gongguan_underfitting.csv\")\n",
    "print(\"Underfitting\")\n",
    "\n",
    "X = bike.drop([\"lent\"], axis=1)\n",
    "y = bike[\"lent\"]\n",
    "\n",
    "train_X, valid_X, train_y, valid_y = train_test_split(X, y, test_size=0.3)\n",
    "\n",
    "lm = LinearRegression()\n",
    "lm.fit(train_X, train_y)\n",
    "print(\"R Square\")\n",
    "print(\"Train:\", lm.score(train_X, train_y))\n",
    "\n",
    "predicted_y = lm.predict(valid_X)  # 求預測值\n",
    "\n",
    "rss = ((predicted_y - valid_y) ** 2).mean()\n",
    "tss = ((valid_y.mean() - valid_y) ** 2).mean()\n",
    "print(\"Val:  \", 1 - rss/tss)  # 驗證誤差"
   ]
  },
  {
   "cell_type": "code",
   "execution_count": 3,
   "metadata": {},
   "outputs": [
    {
     "name": "stdout",
     "output_type": "stream",
     "text": [
      "Overfitting\n",
      "R Square\n",
      "Train: 0.8931718850012087\n",
      "Val:   0.45045128313723004\n"
     ]
    }
   ],
   "source": [
    "bike = pd.read_csv(\"gongguan_overfitting.csv\")\n",
    "print(\"Overfitting\")\n",
    "\n",
    "X = bike.drop([\"lent\"], axis=1)\n",
    "y = bike[\"lent\"]\n",
    "\n",
    "train_X, valid_X, train_y, valid_y = train_test_split(X, y, test_size=0.3)\n",
    "\n",
    "lm = LinearRegression()\n",
    "lm.fit(train_X, train_y)\n",
    "print(\"R Square\")\n",
    "print(\"Train:\", lm.score(train_X, train_y))\n",
    "\n",
    "predicted_y = lm.predict(valid_X)  # 求預測值\n",
    "\n",
    "rss = ((predicted_y - valid_y) ** 2).mean()\n",
    "tss = ((valid_y.mean() - valid_y) ** 2).mean()\n",
    "print(\"Val:  \", 1 - rss/tss)  # 驗證誤差"
   ]
  },
  {
   "cell_type": "markdown",
   "metadata": {},
   "source": [
    "# K-Fold交叉驗證"
   ]
  },
  {
   "cell_type": "code",
   "execution_count": 4,
   "metadata": {},
   "outputs": [
    {
     "name": "stdout",
     "output_type": "stream",
     "text": [
      "Best\n",
      "0.7511195859500663\n",
      "---------\n",
      "Underfitting\n",
      "0.7017800502203373\n",
      "---------\n",
      "Overfitting\n",
      "0.21382132935774767\n"
     ]
    }
   ],
   "source": [
    "from sklearn.model_selection import cross_val_score\n",
    "\n",
    "bike = pd.read_csv(\"gongguan_best.csv\")\n",
    "\n",
    "X = bike.drop([\"lent\"], axis=1)\n",
    "y = bike[\"lent\"]\n",
    "\n",
    "lm = LinearRegression()\n",
    "print(\"Best\")\n",
    "print(cross_val_score(lm, X, y, cv=4).mean())\n",
    "print(\"---------\")\n",
    "\n",
    "\n",
    "bike = pd.read_csv(\"gongguan_underfitting.csv\")\n",
    "\n",
    "X = bike.drop([\"lent\"], axis=1)\n",
    "y = bike[\"lent\"]\n",
    "\n",
    "lm = LinearRegression()\n",
    "print(\"Underfitting\")\n",
    "print(cross_val_score(lm, X, y, cv=4).mean())\n",
    "print(\"---------\")\n",
    "\n",
    "bike = pd.read_csv(\"gongguan_overfitting.csv\")\n",
    "\n",
    "X = bike.drop([\"lent\"], axis=1)\n",
    "y = bike[\"lent\"]\n",
    "\n",
    "lm = LinearRegression()\n",
    "print(\"Overfitting\")\n",
    "print(cross_val_score(lm, X, y, cv=4).mean())"
   ]
  },
  {
   "cell_type": "markdown",
   "metadata": {},
   "source": [
    "# 懲罰模型複雜度"
   ]
  },
  {
   "cell_type": "code",
   "execution_count": 7,
   "metadata": {},
   "outputs": [
    {
     "name": "stdout",
     "output_type": "stream",
     "text": [
      "27自變數\n",
      "0.7511195859500663\n",
      "0.7511427036130731\n",
      "0.7511577441276536\n",
      "0.7509168574390377\n"
     ]
    }
   ],
   "source": [
    "import pandas as pd\n",
    "from sklearn.linear_model import LinearRegression\n",
    "from sklearn.model_selection import cross_val_score\n",
    "from sklearn.linear_model import Lasso\n",
    "\n",
    "bike = pd.read_csv(\"gongguan_best.csv\")\n",
    "print(\"27自變數\")\n",
    "\n",
    "X = bike.drop([\"lent\"], axis=1)\n",
    "y = bike[\"lent\"]\n",
    "\n",
    "lm_basic = LinearRegression()\n",
    "print(cross_val_score(lm_basic, X, y, cv=4).mean())\n",
    "lm_lasso = Lasso(alpha=0.001, max_iter=1000000)\n",
    "print(cross_val_score(lm_lasso, X, y, cv=4).mean())\n",
    "lm_lasso = Lasso(alpha=0.005, max_iter=1000000)\n",
    "print(cross_val_score(lm_lasso, X, y, cv=4).mean())\n",
    "lm_lasso = Lasso(alpha=0.01, max_iter=1000000)\n",
    "print(cross_val_score(lm_lasso, X, y, cv=4).mean())"
   ]
  },
  {
   "cell_type": "code",
   "execution_count": 8,
   "metadata": {},
   "outputs": [
    {
     "name": "stdout",
     "output_type": "stream",
     "text": [
      "144自變數\n",
      "0.21382132935774767\n",
      "0.7864888874448437\n",
      "0.7894659619266512\n",
      "0.7884804368690677\n"
     ]
    }
   ],
   "source": [
    "bike = pd.read_csv(\"gongguan_overfitting.csv\")\n",
    "print(\"144自變數\")\n",
    "\n",
    "X = bike.drop([\"lent\"], axis=1)\n",
    "y = bike[\"lent\"]\n",
    "\n",
    "lm_basic = LinearRegression()\n",
    "print(cross_val_score(lm_basic, X, y, cv=4).mean())\n",
    "lm_lasso = Lasso(alpha=1, max_iter=1000000)\n",
    "print(cross_val_score(lm_lasso, X, y, cv=4).mean())\n",
    "lm_lasso = Lasso(alpha=2, max_iter=1000000)\n",
    "print(cross_val_score(lm_lasso, X, y, cv=4).mean())\n",
    "lm_lasso = Lasso(alpha=5, max_iter=1000000)\n",
    "print(cross_val_score(lm_lasso, X, y, cv=4).mean())"
   ]
  },
  {
   "cell_type": "code",
   "execution_count": null,
   "metadata": {},
   "outputs": [],
   "source": []
  }
 ],
 "metadata": {
  "kernelspec": {
   "display_name": "Python 3",
   "language": "python",
   "name": "python3"
  },
  "language_info": {
   "codemirror_mode": {
    "name": "ipython",
    "version": 3
   },
   "file_extension": ".py",
   "mimetype": "text/x-python",
   "name": "python",
   "nbconvert_exporter": "python",
   "pygments_lexer": "ipython3",
   "version": "3.8.3"
  }
 },
 "nbformat": 4,
 "nbformat_minor": 4
}
