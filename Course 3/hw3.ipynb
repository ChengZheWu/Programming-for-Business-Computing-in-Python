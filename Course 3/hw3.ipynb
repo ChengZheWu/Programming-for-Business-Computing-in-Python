{
 "cells": [
  {
   "cell_type": "code",
   "execution_count": 1,
   "metadata": {},
   "outputs": [
    {
     "name": "stdout",
     "output_type": "stream",
     "text": [
      "100,0.4,26,18,3\n",
      "77.92 74.58\n"
     ]
    }
   ],
   "source": [
    "a, b, c1, c2, n = map(lambda x: float(x), input().split(\",\"))\n",
    "p1 = 0\n",
    "p2 = 0\n",
    "for i in range(int(n) + 1):\n",
    "    p1 = (a + b*p2 + c1) / 2\n",
    "    p2 = (a + b*p1 + c2) / 2\n",
    "p1Eq = p1\n",
    "p2Eq = p2\n",
    "print(\"%0.2f %0.2f\" % (p1Eq, p2Eq))"
   ]
  }
 ],
 "metadata": {
  "kernelspec": {
   "display_name": "Python 3",
   "language": "python",
   "name": "python3"
  },
  "language_info": {
   "codemirror_mode": {
    "name": "ipython",
    "version": 3
   },
   "file_extension": ".py",
   "mimetype": "text/x-python",
   "name": "python",
   "nbconvert_exporter": "python",
   "pygments_lexer": "ipython3",
   "version": "3.8.3"
  }
 },
 "nbformat": 4,
 "nbformat_minor": 4
}
