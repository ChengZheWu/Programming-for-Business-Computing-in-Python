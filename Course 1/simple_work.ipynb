{
 "cells": [
  {
   "cell_type": "markdown",
   "metadata": {},
   "source": [
    "# 總共多少錢"
   ]
  },
  {
   "cell_type": "markdown",
   "metadata": {},
   "source": [
    "題目敘述\n",
    "你手上有面額 50、10、5、1 元的銅板各 ww、xx、yy、zz 個，請計算你一共有多少錢。"
   ]
  },
  {
   "cell_type": "code",
   "execution_count": 1,
   "metadata": {},
   "outputs": [
    {
     "name": "stdout",
     "output_type": "stream",
     "text": [
      "1\n",
      "1\n",
      "1\n",
      "1\n",
      "66\n"
     ]
    }
   ],
   "source": [
    "num1 = int(input())\n",
    "num2 = int(input())\n",
    "num3 = int(input())\n",
    "num4 = int(input())\n",
    "print(num1*50 + num2*10 + num3*5 + num4*1)"
   ]
  },
  {
   "cell_type": "markdown",
   "metadata": {},
   "source": [
    "# 該怎麼找錢"
   ]
  },
  {
   "cell_type": "markdown",
   "metadata": {},
   "source": [
    "題目敘述\n",
    "如果你在一家零售店幫消費的客人結帳，你可能需要快速地挑出合適且數量正確的鈔票與零錢。假設客人的消費金額 aa 一定是 1 到 1000 之間的整數，而你有無限量的 500、100、50、10、5、1 這些面額的鈔票和零錢，我們希望你能依照下面的規則找錢：\n",
    "\n",
    "你找的錢的總額要是 1000 - a1000−a。\n",
    "與其給客人五張 100 元，不如給他一張 500 元；與其給客人兩個 50 元，不如給他一張 100 元……依此類推。\n",
    "以下是一些範例：\n",
    "\n",
    "如果客人消費 200 元，你應該找給他 1 張 500 元和 3 張 100 元。\n",
    "如果客人消費 286 元，你應該找給他 1 張 500 元、2 張 100 元、1 個 10 元和 4 個一元。\n",
    "如果客人消費 925 元，你應該找給他 1 個 50 元、2 個 10 元和 1 個 5 元。\n",
    "在本題中，你將會被給予上述的整數 aa，而你要找出符合上述規則的唯一找錢方式。"
   ]
  },
  {
   "cell_type": "code",
   "execution_count": 44,
   "metadata": {},
   "outputs": [
    {
     "name": "stdout",
     "output_type": "stream",
     "text": [
      "413\n",
      "500, 1; 50, 1; 10, 3; 5, 1; 1, 2"
     ]
    }
   ],
   "source": [
    "pay = 1000\n",
    "a = int(input())\n",
    "if 1 <= a <= 999:\n",
    "    change = 1000 - a\n",
    "    num_500 = change//500\n",
    "    if num_500 != 0:\n",
    "        str_500 = \"500, \" + str(num_500)\n",
    "    else:\n",
    "        str_500 = \"\"\n",
    "    change = change - num_500*500\n",
    "    num_100 = change // 100\n",
    "    if num_100 != 0:\n",
    "        str_100 = \"100, \" + str(num_100)\n",
    "    else:\n",
    "        str_100 = \"\"\n",
    "    change = change - num_100*100\n",
    "    num_50 = change // 50\n",
    "    if num_50 != 0:\n",
    "        str_50 = \"50, \" + str(num_50)\n",
    "    else:\n",
    "        str_50 = \"\"\n",
    "    change = change - num_50*50\n",
    "    num_10 = change // 10\n",
    "    if num_10 != 0:\n",
    "        str_10 = \"10, \" + str(num_10)\n",
    "    else:\n",
    "        str_10 = \"\"\n",
    "    change = change - num_10*10\n",
    "    num_5 = change // 5\n",
    "    if num_5 != 0:\n",
    "        str_5 = \"5, \" + str(num_5)\n",
    "    else:\n",
    "        str_5 = \"\"\n",
    "    change = change - num_5*5\n",
    "    num_1 = change // 1\n",
    "    if num_1 != 0:\n",
    "        str_1 = \"1, \" + str(num_1)\n",
    "    else:\n",
    "        str_1 = \"\"\n",
    "    all_str = [str_500, str_100, str_50, str_10, str_5, str_1]\n",
    "    final_change = []\n",
    "    for i in range(len(all_str)):\n",
    "        if all_str[i] != \"\":\n",
    "            final_change.append(all_str[i])\n",
    "    for i in range(len(final_change)):\n",
    "        if i == len(final_change) - 1:\n",
    "            print(final_change[i], end=\"\")\n",
    "        else:\n",
    "            print(final_change[i], end=\"; \")\n",
    "else:\n",
    "    print(\"a需要介於1到999之間\")"
   ]
  },
  {
   "cell_type": "markdown",
   "metadata": {},
   "source": [
    "# 轉帳金額確認"
   ]
  },
  {
   "cell_type": "code",
   "execution_count": 10,
   "metadata": {},
   "outputs": [
    {
     "name": "stdout",
     "output_type": "stream",
     "text": [
      "46208\n",
      "1159\n",
      "34019\n",
      "account_1: 12189\n",
      "account_2: 35178\n"
     ]
    }
   ],
   "source": [
    "acc1 = int(input())\n",
    "acc2 = int(input())\n",
    "shift = int(input())\n",
    "if 0 <= acc1 <= 100000 and 0 <= acc2 <= 100000 and 0 <= shift <= 100000:\n",
    "    if shift >= acc1:\n",
    "        acc2 = acc2 + acc1\n",
    "        acc1 = 0\n",
    "    else:\n",
    "        acc1 = acc1 - shift\n",
    "        acc2 = acc2 + shift\n",
    "    print(\"account_1:\", acc1)\n",
    "    print(\"account_2:\", acc2)\n",
    "else:\n",
    "    print(\"acc1, acc2, shift 需要介於1~100000之間\")"
   ]
  }
 ],
 "metadata": {
  "kernelspec": {
   "display_name": "Python 3",
   "language": "python",
   "name": "python3"
  },
  "language_info": {
   "codemirror_mode": {
    "name": "ipython",
    "version": 3
   },
   "file_extension": ".py",
   "mimetype": "text/x-python",
   "name": "python",
   "nbconvert_exporter": "python",
   "pygments_lexer": "ipython3",
   "version": "3.8.3"
  }
 },
 "nbformat": 4,
 "nbformat_minor": 4
}
