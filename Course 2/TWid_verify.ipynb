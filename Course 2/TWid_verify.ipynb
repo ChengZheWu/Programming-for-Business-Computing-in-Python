{
 "cells": [
  {
   "cell_type": "code",
   "execution_count": 1,
   "metadata": {},
   "outputs": [],
   "source": [
    "def verify_TWid(twid):\n",
    "    if len(twid) != 10:\n",
    "        return False\n",
    "    check_1 = ord(twid[0])\n",
    "    if (check_1 < 65 or check_1 > 90):\n",
    "        return False\n",
    "    for i in range(1, 10):\n",
    "        check_2 = ord(twid[i])\n",
    "        if (check_2 < 48 or check_2 > 57):\n",
    "            return False\n",
    "    check_3 = ord(twid[1])\n",
    "    if (check_3 < 49 or check_3 > 50):\n",
    "        return False\n",
    "    cmap = [10, 11, 12, 13, 14, 15, 16, 17, 34, 18, 19, 20, 21, 22, 35, 23, 24, 25, 26, 27, 28, 29, 32, 30, 31, 33]\n",
    "    num_1 = cmap[check_1 - 65]\n",
    "    newid = str(num_1) + twid[1:]\n",
    "    weight = [1, 9, 8, 7, 6, 5, 4, 3, 2, 1, 1]\n",
    "#     checksum = 0\n",
    "#     for i in range(11):\n",
    "#         checksum += weight[i]*int(newid[i])\n",
    "    out1 = map(lambda pair:int(pair[0])*pair[1], zip(newid, weight))\n",
    "    checksum = sum(out1)\n",
    "    if checksum % 10 == 0:\n",
    "        return True\n",
    "    else:\n",
    "        return False"
   ]
  },
  {
   "cell_type": "code",
   "execution_count": 2,
   "metadata": {},
   "outputs": [
    {
     "data": {
      "text/plain": [
       "True"
      ]
     },
     "execution_count": 2,
     "metadata": {},
     "output_type": "execute_result"
    }
   ],
   "source": [
    "id = \"A123456789\"\n",
    "verify_TWid(id)"
   ]
  }
 ],
 "metadata": {
  "kernelspec": {
   "display_name": "Python 3",
   "language": "python",
   "name": "python3"
  },
  "language_info": {
   "codemirror_mode": {
    "name": "ipython",
    "version": 3
   },
   "file_extension": ".py",
   "mimetype": "text/x-python",
   "name": "python",
   "nbconvert_exporter": "python",
   "pygments_lexer": "ipython3",
   "version": "3.7.6"
  }
 },
 "nbformat": 4,
 "nbformat_minor": 4
}
